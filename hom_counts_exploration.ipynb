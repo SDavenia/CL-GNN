{
 "cells": [
  {
   "cell_type": "code",
   "execution_count": 1,
   "metadata": {},
   "outputs": [],
   "source": [
    "import json\n",
    "\n",
    "import numpy as np\n",
    "from scipy.spatial.distance import cdist\n",
    "import matplotlib.pyplot as plt"
   ]
  },
  {
   "cell_type": "code",
   "execution_count": 2,
   "metadata": {},
   "outputs": [],
   "source": [
    "with open('data/homomorphism_counts/MUTAG_full_kernel_max_20_run1.homson') as f:\n",
    "   data_run1 = json.load(f)\n",
    "\n",
    "with open('data/homomorphism_counts/MUTAG_full_kernel_max_20_run2.homson') as f:\n",
    "   data_run2 = json.load(f)\n",
    "\n",
    "# To extract the homomorphism counts for each of the embeddings\n",
    "hom_counts_list_run1 = np.array([element['counts'] for element in data_run1['data']], dtype = 'float')\n",
    "hom_counts_list_run2 = np.array([element['counts'] for element in data_run2['data']], dtype = 'float')"
   ]
  },
  {
   "cell_type": "code",
   "execution_count": 3,
   "metadata": {},
   "outputs": [],
   "source": [
    "def plot_matrix_runs(matrix_run1, matrix_run2, num_elements):\n",
    "\n",
    "    cmap = plt.cm.get_cmap('viridis')\n",
    "\n",
    "    # Set up subplots\n",
    "    fig, axs = plt.subplots(1, 2, figsize=(10, 4))\n",
    "\n",
    "    # Plot matrix_run1\n",
    "    plt1 = axs[0].imshow(matrix_run1[0:num_elements, 0:num_elements], cmap=cmap)\n",
    "    axs[0].set_title('Matrix Run 1')\n",
    "\n",
    "    # Plot matrix_run2\n",
    "    plt2 = axs[1].imshow(matrix_run2[0:num_elements, 0:num_elements], cmap=cmap)\n",
    "    axs[1].set_title('Matrix Run 2')\n",
    "\n",
    "    # Create a single color bar for both subplots\n",
    "    cbar = fig.colorbar(plt1, ax=axs, shrink=0.6, label='Color scale')\n",
    "\n",
    "    # Update the color limits based on the data in both matrices\n",
    "    plt1.set_clim(vmin=min(matrix_run1.min(), matrix_run2.min()), vmax=max(matrix_run1.max(), matrix_run2.max()))\n",
    "    plt2.set_clim(vmin=min(matrix_run1.min(), matrix_run2.min()), vmax=max(matrix_run1.max(), matrix_run2.max()))\n",
    "\n",
    "    plt.show()"
   ]
  },
  {
   "cell_type": "code",
   "execution_count": 4,
   "metadata": {},
   "outputs": [
    {
     "name": "stderr",
     "output_type": "stream",
     "text": [
      "/var/folders/tv/ysw0jsvs2t331mtk7hdh35kc0000gn/T/ipykernel_2479/1182788070.py:3: MatplotlibDeprecationWarning: The get_cmap function was deprecated in Matplotlib 3.7 and will be removed two minor releases later. Use ``matplotlib.colormaps[name]`` or ``matplotlib.colormaps.get_cmap(obj)`` instead.\n",
      "  cmap = plt.cm.get_cmap('viridis')\n"
     ]
    },
    {
     "data": {
      "image/png": "[encoded data removed]",
      "text/plain": [
       "<Figure size 1000x400 with 3 Axes>"
      ]
     },
     "metadata": {},
     "output_type": "display_data"
    }
   ],
   "source": [
    "L1_run1 = cdist(hom_counts_list_run1, hom_counts_list_run1, metric='cityblock')\n",
    "L1_run2 = cdist(hom_counts_list_run2, hom_counts_list_run2, metric='cityblock')\n",
    "plot_matrix_runs(L1_run1, L1_run2, num_elements=30) # We can see some inconsitent scales among different runs"
   ]
  },
  {
   "cell_type": "code",
   "execution_count": 5,
   "metadata": {},
   "outputs": [
    {
     "data": {
      "text/plain": [
       "87"
      ]
     },
     "execution_count": 5,
     "metadata": {},
     "output_type": "execute_result"
    }
   ],
   "source": [
    "int((np.count_nonzero(L1_run1 == 0) - 188)/2) # There are this number of graphs which have distance 0 between themselves "
   ]
  },
  {
   "cell_type": "code",
   "execution_count": 6,
   "metadata": {},
   "outputs": [
    {
     "data": {
      "text/plain": [
       "array([1.7000000e+01, 3.8000000e+01, 9.2000000e+01, 0.0000000e+00,\n",
       "       0.0000000e+00, 0.0000000e+00, 0.0000000e+00, 3.4960000e+03,\n",
       "       1.4433918e+07, 0.0000000e+00, 0.0000000e+00, 0.0000000e+00,\n",
       "       0.0000000e+00, 0.0000000e+00, 0.0000000e+00, 0.0000000e+00,\n",
       "       0.0000000e+00, 0.0000000e+00, 0.0000000e+00, 0.0000000e+00])"
      ]
     },
     "execution_count": 6,
     "metadata": {},
     "output_type": "execute_result"
    }
   ],
   "source": [
    "# We can avoid this issue by rescaling the output distance\n",
    "hom_counts_list_run1[0] # Homomorphism count vector corresponding to the first one\n",
    "# Either rescale the final y output to be in [0,1]\n",
    "# Rescale the original homomorphism counts vectors so that they like sum to 1 (using something like a softmax) -> Maybe problematic cause small patterns may appear a lot of times more than lager patters"
   ]
  },
  {
   "cell_type": "markdown",
   "metadata": {},
   "source": [
    "### Try to see if GNN picks up something interesting"
   ]
  },
  {
   "cell_type": "code",
   "execution_count": 7,
   "metadata": {},
   "outputs": [],
   "source": [
    "import torch\n",
    "from torch.nn import Linear, Parameter\n",
    "from torch_geometric.nn import MessagePassing, global_mean_pool, GCNConv\n",
    "from torch_geometric.utils import add_self_loops, degree\n",
    "from torch_geometric.loader import DataLoader\n",
    "\n",
    "from running_functions import training_loop"
   ]
  },
  {
   "cell_type": "code",
   "execution_count": 8,
   "metadata": {},
   "outputs": [],
   "source": [
    "from torch_geometric.datasets import TUDataset\n",
    "from torch_geometric.loader import DataLoader\n",
    "from torch_geometric.data import Data"
   ]
  },
  {
   "cell_type": "code",
   "execution_count": 9,
   "metadata": {},
   "outputs": [],
   "source": [
    "device = 'cuda' if torch.cuda.is_available() else 'cpu'"
   ]
  },
  {
   "cell_type": "code",
   "execution_count": 10,
   "metadata": {},
   "outputs": [],
   "source": [
    "def some_transform(graph: Data) -> Data:\n",
    "    feature_dimension = graph.x.shape[1]\n",
    "    feature = torch.ones((1, feature_dimension))\n",
    "\n",
    "    graph.extra_feature = feature\n",
    "\n",
    "    return graph"
   ]
  },
  {
   "cell_type": "code",
   "execution_count": 11,
   "metadata": {},
   "outputs": [],
   "source": [
    "def number_of_neighbours(graph):\n",
    "    \"\"\"\n",
    "    Assuming that there are no disconnected nodes which do not appear in edge_index, this modifies\n",
    "     the features of each node to only be one vector containing its number of neighbours\n",
    "    \"\"\"\n",
    "    counts = graph.edge_index[0].unique(return_counts=True)[1].reshape(-1, 1)\n",
    "    if len(counts) == graph.x.shape[0]:\n",
    "        graph.x = counts\n",
    "        return graph\n",
    "    print(f\"The input graph contains some unconnected node, this pre-transform can't work with it\")\n",
    "    raise TypeError()"
   ]
  },
  {
   "cell_type": "code",
   "execution_count": 12,
   "metadata": {},
   "outputs": [],
   "source": [
    "dataset = TUDataset(root='/tmp/MUTAG_transformed', name='MUTAG', pre_transform=number_of_neighbours) "
   ]
  },
  {
   "cell_type": "code",
   "execution_count": 13,
   "metadata": {},
   "outputs": [
    {
     "data": {
      "text/plain": [
       "17"
      ]
     },
     "execution_count": 13,
     "metadata": {},
     "output_type": "execute_result"
    }
   ],
   "source": [
    "dataset[0]['x'].shape[0]"
   ]
  },
  {
   "cell_type": "code",
   "execution_count": 14,
   "metadata": {},
   "outputs": [],
   "source": [
    "# Check that they are in the same order as the dataset\n",
    "for i in range(len(dataset)):\n",
    "    if (dataset[i]['x'].shape[0] != data_run1['data'][i]['vertices']):\n",
    "        print(f\"The {i}-th observation is different\")\n",
    "        print(dataset[i]['x'].shape[0])\n",
    "        print(data_run1['data'][i]['vertices'])"
   ]
  },
  {
   "cell_type": "code",
   "execution_count": 15,
   "metadata": {},
   "outputs": [],
   "source": [
    "# Now we split the dataset into training and test validation set (see if include test later)\n",
    "# For now we ignore shuffling, will do it later (I know not good practice but have to map each homcount to the node)\n",
    "train_dataset = dataset[:100]\n",
    "val_dataset = dataset[100:]"
   ]
  },
  {
   "cell_type": "code",
   "execution_count": 16,
   "metadata": {},
   "outputs": [],
   "source": [
    "class PairData(Data):\n",
    "    def __inc__(self, key, value, *args, **kwargs):\n",
    "        if key == 'edge_index_1':\n",
    "            return self.x_1.size(0)\n",
    "        if key == 'edge_index_2':\n",
    "            return self.x_2.size(0)\n",
    "        return super().__inc__(key, value, *args, **kwargs)"
   ]
  },
  {
   "cell_type": "code",
   "execution_count": 17,
   "metadata": {},
   "outputs": [],
   "source": [
    "# Construct all pairs of graphs using PairData object for both the training and validation set.\n",
    "distance_matrix = L1_run1\n",
    "\n",
    "train_data_list = []\n",
    "for ind1, graph1 in enumerate(train_dataset):\n",
    "    for ind2, graph2 in enumerate(train_dataset[ind1+1:]):\n",
    "        ind2 += (ind1 + 1)\n",
    "        train_data_list.append(PairData(x_1=graph1.x, edge_index_1=graph1.edge_index,\n",
    "                            x_2=graph2.x, edge_index_2=graph2.edge_index,\n",
    "                            distance = float(distance_matrix[ind1, ind2])).to(device))   \n",
    "\n",
    "val_data_list = []\n",
    "for ind1, graph1 in enumerate(val_dataset):\n",
    "    for ind2, graph2 in enumerate(val_dataset[ind1+1:]):\n",
    "        ind2 += (ind1 + 1)\n",
    "        val_data_list.append(PairData(x_1=graph1.x, edge_index_1=graph1.edge_index,\n",
    "                            x_2=graph2.x, edge_index_2=graph2.edge_index,\n",
    "                            distance = float(distance_matrix[ind1 + len(train_dataset), ind2 + len(train_dataset)])).to(device))   "
   ]
  },
  {
   "cell_type": "code",
   "execution_count": 18,
   "metadata": {},
   "outputs": [
    {
     "name": "stdout",
     "output_type": "stream",
     "text": [
      "Batch 1:\n",
      "=======\n",
      "Number of graphs in the current batch: 32\n",
      "PairDataBatch(x_1=[569, 1], x_1_batch=[569], x_1_ptr=[33], edge_index_1=[2, 1264], x_2=[551, 1], x_2_batch=[551], x_2_ptr=[33], edge_index_2=[2, 1218], distance=[32])\n",
      "tensor([17122488., 38414088., 45899484., 15509314.,  4482718., 39889848.,\n",
      "        64743756.,  3759798.,  1675809., 25836958.,  9405196., 43258544.,\n",
      "         2084659., 71396824.,  2202850., 67576152., 50256896., 20459488.,\n",
      "        31433072., 13201043., 18673762.,  6492072.,  1919718., 64995656.,\n",
      "         4617440.,  9593764., 10171432., 69148184., 46657096.,  4321550.,\n",
      "         2239360.,  2805116.])\n",
      "\n"
     ]
    }
   ],
   "source": [
    "batch_size = 32\n",
    "train_loader = DataLoader(train_data_list, batch_size=batch_size, follow_batch=['x_1', 'x_2'], shuffle=True)\n",
    "val_loader = DataLoader(val_data_list, batch_size=batch_size, follow_batch=['x_1', 'x_2'], shuffle=True)\n",
    "for step, data in enumerate(train_loader):\n",
    "    print(f'Batch {step + 1}:')\n",
    "    data = data.to(device)\n",
    "    print('=======')\n",
    "    print(f'Number of graphs in the current batch: {data.num_graphs}')\n",
    "    print(data)\n",
    "    print(data.distance)\n",
    "    print()\n",
    "    break # Only print 1"
   ]
  },
  {
   "cell_type": "code",
   "execution_count": 19,
   "metadata": {},
   "outputs": [
    {
     "data": {
      "text/plain": [
       "tensor([17122488., 38414088., 45899484., 15509314.,  4482718., 39889848.,\n",
       "        64743756.,  3759798.,  1675809., 25836958.,  9405196., 43258544.,\n",
       "         2084659., 71396824.,  2202850., 67576152., 50256896., 20459488.,\n",
       "        31433072., 13201043., 18673762.,  6492072.,  1919718., 64995656.,\n",
       "         4617440.,  9593764., 10171432., 69148184., 46657096.,  4321550.,\n",
       "         2239360.,  2805116.])"
      ]
     },
     "execution_count": 19,
     "metadata": {},
     "output_type": "execute_result"
    }
   ],
   "source": [
    "data['distance']"
   ]
  },
  {
   "cell_type": "code",
   "execution_count": 21,
   "metadata": {},
   "outputs": [],
   "source": [
    "class GCN_pairs(torch.nn.Module):\n",
    "    \"\"\"\n",
    "    Takes as input a pair of graphs which are both fed through 3 convolutional layers each followed by an activation function\n",
    "    3 graph convolutional layers (Welling) that share parameters\n",
    "    \"\"\"\n",
    "    def __init__(self, input_features, hidden_channels, output_embeddings):\n",
    "        super(GCN_pairs, self).__init__()\n",
    "        self.conv1 = GCNConv(input_features, hidden_channels)\n",
    "        self.conv2 = GCNConv(hidden_channels, hidden_channels)\n",
    "        self.conv3 = GCNConv(hidden_channels, hidden_channels)\n",
    "        self.lin = Linear(hidden_channels, output_embeddings)\n",
    "        self.pdist = torch.nn.PairwiseDistance(p=1)\n",
    "\n",
    "\n",
    "    def forward(self, x1, edge_index1, batch1, x2, edge_index2, batch2): # Need a way to extract these from dataloader\n",
    "        # 1. Obtain node embeddings for graph 1\n",
    "        x1 = self.conv1(x1, edge_index1)\n",
    "        x1 = x1.relu()\n",
    "        x1 = self.conv2(x1, edge_index1)\n",
    "        x1 = x1.relu()\n",
    "        x1 = self.conv3(x1, edge_index1)\n",
    "        # 2. Readout layer\n",
    "        x1 = global_mean_pool(x1, batch1)  # [batch_size, hidden_channels]\n",
    "        # 3. Apply a final linear transformation on the aggregated embedding\n",
    "        x1 = torch.nn.functional.dropout(x1, p=0.5, training=self.training)\n",
    "        x1 = self.lin(x1)\n",
    "\n",
    "        # 1. Obtain node embeddings for graph 2\n",
    "        x2 = self.conv1(x2, edge_index2)\n",
    "        x2 = x2.relu()\n",
    "        x2 = self.conv2(x2, edge_index2)\n",
    "        x2 = x2.relu()\n",
    "        x2 = self.conv3(x2, edge_index2)\n",
    "        # 2. Readout layer\n",
    "        x2 = global_mean_pool(x2, batch2)  # [batch_size, hidden_channels]\n",
    "        # 3. Apply a final linear transformation on the aggregated embedding\n",
    "        x2 = torch.nn.functional.dropout(x2, p=0.5, training=self.training)\n",
    "        x2 = self.lin(x2)\n",
    "\n",
    "        dist = self.pdist(x1, x2) # p = 1 is the manhattan distance\n",
    "        return dist"
   ]
  },
  {
   "cell_type": "code",
   "execution_count": 22,
   "metadata": {},
   "outputs": [
    {
     "name": "stdout",
     "output_type": "stream",
     "text": [
      "GCN_pairs(\n",
      "  (conv1): GCNConv(1, 64)\n",
      "  (conv2): GCNConv(64, 64)\n",
      "  (conv3): GCNConv(64, 64)\n",
      "  (lin): Linear(in_features=64, out_features=300, bias=True)\n",
      "  (pdist): PairwiseDistance()\n",
      ")\n"
     ]
    }
   ],
   "source": [
    "model = GCN_pairs(input_features=dataset.num_node_features, hidden_channels=64, output_embeddings=300).to(device)\n",
    "optimizer = torch.optim.Adam(model.parameters(), lr=0.01)\n",
    "criterion = torch.nn.MSELoss()\n",
    "print(model)"
   ]
  },
  {
   "cell_type": "code",
   "execution_count": 24,
   "metadata": {},
   "outputs": [
    {
     "name": "stdout",
     "output_type": "stream",
     "text": [
      "Epoch: 10 | Epoch Time: 0m 2s\n",
      "\tTrain Loss: 389821033034547.188\n",
      "\t Val. Loss: 809951816371404.750\n",
      "Epoch: 20 | Epoch Time: 0m 2s\n",
      "\tTrain Loss: 386009615086175.812\n",
      "\t Val. Loss: 783167114619562.625\n"
     ]
    }
   ],
   "source": [
    "training_loop(model, train_loader, optimizer, criterion, val_loader, epoch_number=20)"
   ]
  }
 ],
 "metadata": {
  "kernelspec": {
   "display_name": "TUW_ML_Proj",
   "language": "python",
   "name": "python3"
  },
  "language_info": {
   "codemirror_mode": {
    "name": "ipython",
    "version": 3
   },
   "file_extension": ".py",
   "mimetype": "text/x-python",
   "name": "python",
   "nbconvert_exporter": "python",
   "pygments_lexer": "ipython3",
   "version": "3.9.18"
  }
 },
 "nbformat": 4,
 "nbformat_minor": 2
}
