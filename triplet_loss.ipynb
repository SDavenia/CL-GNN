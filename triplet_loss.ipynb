{
 "cells": [
  {
   "cell_type": "code",
   "execution_count": 40,
   "metadata": {},
   "outputs": [],
   "source": [
    "import json\n",
    "import numpy as np \n",
    "from scipy.spatial.distance import cdist\n",
    "import matplotlib.pyplot as plt\n",
    "\n",
    "from Utilities import Add_ID_Count_Neighbours\n",
    "\n",
    "import torch\n",
    "import torch.nn as nn\n",
    "from torch import Tensor\n",
    "\n",
    "from torch_geometric.data import Data\n",
    "from torch_geometric.datasets import TUDataset\n",
    "from torch_geometric.loader import DataLoader\n",
    "\n",
    "from training import training_loop"
   ]
  },
  {
   "cell_type": "code",
   "execution_count": 2,
   "metadata": {},
   "outputs": [],
   "source": [
    "dataset = TUDataset(root='/tmp/ENZYMES', name='ENZYMES', pre_transform=Add_ID_Count_Neighbours(), use_node_attr=True)"
   ]
  },
  {
   "cell_type": "code",
   "execution_count": 3,
   "metadata": {},
   "outputs": [],
   "source": [
    "class TripletData(Data):\n",
    "    def __inc__(self, key, value, *args, **kwargs):\n",
    "        if key == 'edge_index_1':\n",
    "            return self.x_1.size(0)\n",
    "        if key == 'edge_index_2':\n",
    "            return self.x_2.size(0)\n",
    "        if key == 'edge_index_3':\n",
    "            return self.x_3.size(0)\n",
    "        return super().__inc__(key, value, *args, **kwargs)"
   ]
  },
  {
   "cell_type": "code",
   "execution_count": 4,
   "metadata": {},
   "outputs": [],
   "source": [
    "scaling = 'counts'\n",
    "dist = 'L1'\n",
    "scale_y = True\n",
    "\n",
    "with open('data/homomorphism_counts/ENZYMES_44.homson') as f:\n",
    "    data = json.load(f)\n",
    "    if scaling == 'counts':\n",
    "        hom_counts = [element['counts'] for element in data['data']]\n",
    "    else:\n",
    "        raise NotImplementedError('Scaling not implemented')\n",
    "\n",
    "# Compute the distance matrix\n",
    "if dist == 'L1':\n",
    "    dist_matrix = cdist(hom_counts, hom_counts, metric='cityblock')\n",
    "elif dist == 'L2':\n",
    "    dist_matrix = cdist(hom_counts, hom_counts, metric='euclidean')\n",
    "elif dist == 'cosine':\n",
    "    dist_matrix = cdist(hom_counts, hom_counts, metric='cosine')\n",
    "\n",
    "dist_matrix = dist_matrix.astype('float32')\n",
    "\n",
    "if scale_y:\n",
    "    dist_matrix = np.sqrt(dist_matrix)\n",
    "    # ADDITIONALLY HERE RESCALE FOR DISTANCES TO BE IN [0, 1]\n",
    "    dist_matrix = dist_matrix / np.max(dist_matrix)"
   ]
  },
  {
   "cell_type": "code",
   "execution_count": 64,
   "metadata": {},
   "outputs": [],
   "source": [
    "# Obtain train/validation-test split. For validation and train consider subsets of the created triplets.\n",
    "dataset = dataset.shuffle()\n",
    "train_val_dataset = dataset[:int(0.8*len(dataset) + 1)]\n",
    "test_dataset = dataset[int(0.8*len(dataset) + 1):]"
   ]
  },
  {
   "cell_type": "code",
   "execution_count": 42,
   "metadata": {},
   "outputs": [],
   "source": [
    "k = 50\n",
    "# Extract distances between homomorphism counts cause we need them (consider the rescaled ones as before as they might help.)\n",
    "data_list = []\n",
    "for a_index, a_graph in enumerate(dataset):\n",
    "    a_id = a_graph['id']\n",
    "    # Obtain k closest graphs\n",
    "    closest = np.argsort(dist_matrix[a_id])[0:k+1]\n",
    "    closest = np.delete(closest, np.where(closest == int(a_id)))\n",
    "\n",
    "    # Obtain k furthest away graphs\n",
    "    farthest = np.argsort(dist_matrix[a_id])[-k:]\n",
    "    \n",
    "    # Sample entries for the positive and negative pairs at random (without replacement).\n",
    "    while len(closest) != 0:\n",
    "        p_id = np.random.choice(closest)\n",
    "        n_id = np.random.choice(farthest)\n",
    "        closest = np.delete(closest, np.where(closest == p_id))\n",
    "        farthest = np.delete(farthest, np.where(farthest == n_id))\n",
    "\n",
    "        p_graph = dataset[p_id]\n",
    "        n_graph = dataset[n_id]\n",
    "\n",
    "        # Obtain the margin to assign between the two\n",
    "        margin = torch.from_numpy(np.asarray(dist_matrix[a_id, n_id] - dist_matrix[a_id, p_id]))\n",
    "\n",
    "        # Create the triplet \n",
    "        data_list.append(TripletData(x_1=a_graph.x, edge_index_1=a_graph.edge_index,\n",
    "                                        x_2=p_graph.x, edge_index_2=p_graph.edge_index,\n",
    "                                        x_3=n_graph.x, edge_index_3=n_graph.edge_index,\n",
    "                                        margin=margin))"
   ]
  },
  {
   "cell_type": "code",
   "execution_count": 43,
   "metadata": {},
   "outputs": [],
   "source": [
    "seed = 20224\n",
    "torch.manual_seed(seed)\n",
    "torch.cuda.manual_seed_all(seed)\n",
    "batch_size = 32\n",
    "# Prepare batch\n",
    "loader = DataLoader(data_list, batch_size=batch_size, follow_batch=['x_1', 'x_2', 'x_3'], shuffle=True)"
   ]
  },
  {
   "cell_type": "code",
   "execution_count": 44,
   "metadata": {},
   "outputs": [],
   "source": [
    "\"\"\"\n",
    "This file contains the implementation of the different classes considered.\n",
    "\"\"\"\n",
    "import torch\n",
    "from torch.nn import Linear, Parameter, PairwiseDistance, CosineSimilarity\n",
    "from torch_geometric.nn import MessagePassing, global_mean_pool, GCNConv\n",
    "from torch_geometric.nn.norm import BatchNorm\n",
    "\n",
    "class GCN_k_m(torch.nn.Module):\n",
    "    \"\"\"\n",
    "    Takes as input a pair of graphs which are both fed through k graph convolutional layers and m linear layers (with k >= 1 and m >= 0).\n",
    "    conv1 -> relu -> ... -> convk -> meanpool -> compute dist(x1, x2)\n",
    "    If a number of linear layers m >= 1 is specified:\n",
    "    conv1 -> ...         -> convk -> meanpool -> linear1 -> relu -> ... -> linearm -> compute dist(x1, x2)\n",
    "    \n",
    "    If mlp_dist is set to True:\n",
    "    The distance between the two embedding vectors is obtained by applying a linear transformation on the difference between the two.\n",
    "    \"\"\"\n",
    "    def __init__(self, input_features, hidden_channels, output_embeddings, n_conv_layers, n_linear_layers, name, dist = 'L1'):\n",
    "        super(GCN_k_m, self).__init__()\n",
    "\n",
    "        if n_conv_layers < 1:\n",
    "            raise ValueError(\"Invalid value for n_conv_layers. n_conv_layers should be an integer larger than 0\")\n",
    "        if dist not in ['cosine', 'L1', 'L2']:\n",
    "            raise ValueError(\"Invalid value for 'dist'. Expected 'cosine', 'L1', or 'L2'.\")\n",
    "        \n",
    "        # Details for the architecture\n",
    "        self.dist = dist\n",
    "        self.input_features = input_features\n",
    "        self.output_embeddings = output_embeddings \n",
    "        self.name = name\n",
    "\n",
    "        # Hyper-parameters.\n",
    "        # self.apply_relu_conv = apply_relu_conv # If True applies relu after each convolutional layer\n",
    "        self.hidden_channels = hidden_channels # Sets dimension of hidden channels\n",
    "        self.n_conv_layers = n_conv_layers     # Sets number of convolutional layers.\n",
    "        self.n_linear_layers = n_linear_layers # Sets number of linear layers.\n",
    "\n",
    "        # GCN and Linear layers employed by the model.\n",
    "        self.GCN_layers = torch.nn.ModuleList()\n",
    "        self.Linear_layers = torch.nn.ModuleList()\n",
    "        self.BN_layers = torch.nn.ModuleList()\n",
    "\n",
    "        # If no linear layers\n",
    "        if self.n_linear_layers == 0:\n",
    "            for i in range(self.n_conv_layers-1): \n",
    "                self.GCN_layers.append(GCNConv(input_features, hidden_channels))\n",
    "                input_features = hidden_channels # From second layer we'll need this.\n",
    "            # Final GCN layer\n",
    "            self.GCN_layers.append(GCNConv(input_features, output_embeddings))\n",
    "\n",
    "        # If there are some linear layers\n",
    "        else:\n",
    "            for i in range(self.n_conv_layers): \n",
    "                self.GCN_layers.append(GCNConv(input_features, hidden_channels))\n",
    "                input_features = hidden_channels # From second layer we'll need this.\n",
    "            # Linear layers\n",
    "            for i in range(self.n_linear_layers - 1):\n",
    "                self.Linear_layers.append(Linear(hidden_channels, hidden_channels))\n",
    "            # Final linear layer\n",
    "            self.Linear_layers.append(Linear(hidden_channels, output_embeddings))\n",
    "\n",
    "        # Prepare batch normalization layers to apply after each convolutonal layer.\n",
    "        for i in range(self.n_conv_layers-1):\n",
    "            self.BN_layers.append(BatchNorm(hidden_channels))\n",
    "\n",
    "        # Additional layers\n",
    "        self.relu = torch.nn.ReLU()\n",
    "        \n",
    "        # Define the operation to be performed on the distances based on the the specification.\n",
    "        if self.dist == 'L1':\n",
    "            self.pdist = PairwiseDistance(p=1)\n",
    "        elif self.dist == 'L2':\n",
    "            self.pdist = PairwiseDistance(p=2)\n",
    "        elif self.dist == 'cosine':\n",
    "            self.pdist = CosineSimilarity()\n",
    "\n",
    "    def forward_base_network(self, x, edge_index, batch):  # This is the forward pass for the base network. \n",
    "        # 1. Obtain node embeddings for graph 1 and 2\n",
    "        for i, gcn_layer in enumerate(self.GCN_layers):\n",
    "            x = gcn_layer(x, edge_index)\n",
    "    \n",
    "            if i != (self.n_conv_layers-1): # Do not apply batch normalization or ReLu after the last convolutional layer.\n",
    "                x = self.relu(x)\n",
    "                x = self.BN_layers[i](x) \n",
    "        \n",
    "        # 2. Readout layer followed by Linear layers.\n",
    "        x = global_mean_pool(x, batch)\n",
    "        x = torch.nn.functional.dropout(x, p=0.5)\n",
    "\n",
    "        for i, layer in enumerate(self.Linear_layers):\n",
    "            x = layer(x)\n",
    "            if i != self.n_linear_layers: # Do not apply ReLu after the final linear layer\n",
    "                x = self.relu(x)\n",
    "        return x\n",
    "\n",
    "    def forward_contrastive_loss(self, x1, edge_index1, batch1, x2, edge_index2, batch2): # Forward pass when two inputs are given to the network\n",
    "        x1 = self.forward_base_network(x1, edge_index1, batch1)\n",
    "        x2 = self.forward_base_network(x2, edge_index2, batch2)\n",
    "\n",
    "        # Compute the corresponding distance between the embeddings.\n",
    "        if self.dist == 'cosine':\n",
    "            vdist = 1 - self.pdist(x1, x2)\n",
    "        else:\n",
    "            vdist = self.pdist(x1, x2)\n",
    "        return vdist\n",
    "\n",
    "    def forward_triplet_loss(self, x1, edge_index1, batch1, x2, edge_index2, batch2, x3, edge_index3, batch3): # Forward pass when three inputs are given to the network\n",
    "        x1 = self.forward_base_network(x1, edge_index1, batch1)\n",
    "        x2 = self.forward_base_network(x2, edge_index2, batch2)\n",
    "        x3 = self.forward_base_network(x3, edge_index3, batch3)\n",
    "\n",
    "        return x1, x2, x3\n",
    "\n",
    "    def forward(self, x1, edge_index1, batch1, x2, edge_index2, batch2, x3=None, edge_index3=None, batch3=None):\n",
    "        if x3 is None:\n",
    "            # Call Contrastive loss forward.\n",
    "            return self.forward_contrastive_loss(x1, edge_index1, batch1, x2, edge_index2, batch2)  \n",
    "        else:\n",
    "            # Call triplet loss forward.\n",
    "            return self.forward_triplet_loss(x1, edge_index1, batch1, x2, edge_index2, batch2, x3, edge_index3, batch3)\n",
    "\n",
    "    def save(self):\n",
    "        \"\"\"\n",
    "        Saves the model state dictionary in models folder\n",
    "        \"\"\"\n",
    "        path = 'models/' + self.name + '.pt'\n",
    "        torch.save(self.state_dict(), path)"
   ]
  },
  {
   "cell_type": "code",
   "execution_count": 45,
   "metadata": {},
   "outputs": [],
   "source": [
    "class CustomTripletMarginLoss(torch.nn.Module):\n",
    "    __constants__ = [ 'p']\n",
    "    p: float\n",
    "\n",
    "    def __init__(self, p: float = 2.):\n",
    "        super(CustomTripletMarginLoss, self).__init__()\n",
    "        self.p = p\n",
    "\n",
    "    def forward(self, anchor: Tensor, positive: Tensor, negative: Tensor, margin: Tensor) -> Tensor:\n",
    "        d_ap = torch.norm(anchor - positive, dim=1, p=self.p)\n",
    "        d_an = torch.norm(anchor - negative, dim=1, p=self.p)\n",
    "        losses = torch.nn.functional.relu(d_ap - d_an + margin, inplace=False) # Remove all entries smaller than 0.\n",
    "        return losses.mean()"
   ]
  },
  {
   "cell_type": "code",
   "execution_count": 46,
   "metadata": {},
   "outputs": [],
   "source": [
    "lr = 0.01\n",
    "device = 'cuda' if torch.cuda.is_available() else 'cpu'\n",
    "model = GCN_k_m(input_features=dataset.num_node_features, hidden_channels=32, output_embeddings=44, n_conv_layers=2, n_linear_layers=0, name='test_triplet', dist='L1')\n",
    "optimizer = torch.optim.Adam(model.parameters(), lr=lr)\n",
    "criterion = CustomTripletMarginLoss(p=2).to(device)"
   ]
  },
  {
   "cell_type": "code",
   "execution_count": 47,
   "metadata": {},
   "outputs": [
    {
     "name": "stdout",
     "output_type": "stream",
     "text": [
      "Epoch: 10 | Time for 10 epochs: 5m 59s\n",
      "\tTrain Loss: 0.342\n",
      "\t Val. Loss: 0.075\n",
      "Epoch: 20 | Time for 10 epochs: 6m 24s\n",
      "\tTrain Loss: 0.340\n",
      "\t Val. Loss: 0.089\n",
      "Early stopping triggered at epoch 20\n",
      "Best epoch was 9\n"
     ]
    }
   ],
   "source": [
    "# k = 50\n",
    "train_losses, validation_losses = training_loop(model, loader, optimizer, criterion, loader, epoch_number=50, patience=10, return_losses=True)"
   ]
  },
  {
   "cell_type": "code",
   "execution_count": 48,
   "metadata": {},
   "outputs": [
    {
     "data": {
      "text/plain": [
       "[<matplotlib.lines.Line2D at 0x7ff026c568e0>]"
      ]
     },
     "execution_count": 48,
     "metadata": {},
     "output_type": "execute_result"
    },
    {
     "data": {
      "image/png": "[encoded data removed]",
      "text/plain": [
       "<Figure size 640x480 with 1 Axes>"
      ]
     },
     "metadata": {},
     "output_type": "display_data"
    }
   ],
   "source": [
    "plt.plot(train_losses, label='Train')\n",
    "plt.plot(validation_losses, label='Validation') "
   ]
  },
  {
   "cell_type": "code",
   "execution_count": 38,
   "metadata": {},
   "outputs": [
    {
     "name": "stdout",
     "output_type": "stream",
     "text": [
      "Epoch: 10 | Time for 10 epochs: 3m 4s\n",
      "\tTrain Loss: 0.532\n",
      "\t Val. Loss: 0.152\n",
      "Early stopping triggered at epoch 13\n",
      "Best epoch was 2\n"
     ]
    }
   ],
   "source": [
    "# k = 20\n",
    "train_losses, validation_losses = training_loop(model, loader, optimizer, criterion, loader, epoch_number=50, patience=10, return_losses=True)"
   ]
  },
  {
   "cell_type": "code",
   "execution_count": 41,
   "metadata": {},
   "outputs": [
    {
     "data": {
      "text/plain": [
       "[<matplotlib.lines.Line2D at 0x7ff02899c910>]"
      ]
     },
     "execution_count": 41,
     "metadata": {},
     "output_type": "execute_result"
    },
    {
     "data": {
      "image/png": "[encoded data removed]",
      "text/plain": [
       "<Figure size 640x480 with 1 Axes>"
      ]
     },
     "metadata": {},
     "output_type": "display_data"
    }
   ],
   "source": [
    "plt.plot(train_losses, label='Train')\n",
    "plt.plot(validation_losses, label='Validation') "
   ]
  },
  {
   "cell_type": "code",
   "execution_count": 32,
   "metadata": {},
   "outputs": [
    {
     "name": "stdout",
     "output_type": "stream",
     "text": [
      "Epoch: 10 | Time for 10 epochs: 1m 37s\n",
      "\tTrain Loss: 0.578\n",
      "\t Val. Loss: 0.223\n",
      "Early stopping triggered at epoch 15\n",
      "Best epoch was 4\n"
     ]
    }
   ],
   "source": [
    "# k = 15\n",
    "train_losses, validation_losses = training_loop(model, loader, optimizer, criterion, loader, epoch_number=50, patience=10, return_losses=True)"
   ]
  },
  {
   "cell_type": "code",
   "execution_count": 26,
   "metadata": {},
   "outputs": [
    {
     "name": "stdout",
     "output_type": "stream",
     "text": [
      "Epoch: 10 | Time for 10 epochs: 1m 4s\n",
      "\tTrain Loss: 0.646\n",
      "\t Val. Loss: 0.311\n",
      "Early stopping triggered at epoch 14\n",
      "Best epoch was 3\n"
     ]
    }
   ],
   "source": [
    "# k = 10\n",
    "train_losses, validation_losses = training_loop(model, loader, optimizer, criterion, loader, epoch_number=50, patience=10, return_losses=True)"
   ]
  },
  {
   "cell_type": "markdown",
   "metadata": {},
   "source": [
    "## USING ALL BUNCH OF TRIPLETS"
   ]
  },
  {
   "cell_type": "code",
   "execution_count": 58,
   "metadata": {},
   "outputs": [],
   "source": [
    "k = 5\n",
    "# Extract distances between homomorphism counts cause we need them (consider the rescaled ones as before as they might help.)\n",
    "data_list = []\n",
    "for a_index, a_graph in enumerate(dataset):\n",
    "    a_id = a_graph['id']\n",
    "    # Obtain k closest graphs\n",
    "    closest = np.argsort(dist_matrix[a_id])[0:k+1]\n",
    "    closest = np.delete(closest, np.where(closest == int(a_id)))\n",
    "\n",
    "    # Obtain k furthest away graphs\n",
    "    farthest = np.argsort(dist_matrix[a_id])[-k:]\n",
    "    \n",
    "    # Sample entries for the positive and negative pairs at random \n",
    "    for p_id in closest:\n",
    "        p_graph = dataset[p_id]\n",
    "        for n_id in farthest:\n",
    "            n_graph = dataset[n_id]\n",
    "            # Obtain the margin to assign between the two \n",
    "            margin = torch.from_numpy(np.asarray(dist_matrix[a_id, n_id] - dist_matrix[a_id, p_id]))\n",
    "            data_list.append(TripletData(x_1=a_graph.x, edge_index_1=a_graph.edge_index,\n",
    "                                        x_2=p_graph.x, edge_index_2=p_graph.edge_index,\n",
    "                                        x_3=n_graph.x, edge_index_3=n_graph.edge_index,\n",
    "                                        margin=margin))"
   ]
  },
  {
   "cell_type": "code",
   "execution_count": 59,
   "metadata": {},
   "outputs": [],
   "source": [
    "seed = 20224\n",
    "torch.manual_seed(seed)\n",
    "torch.cuda.manual_seed_all(seed)\n",
    "batch_size = 32\n",
    "# Prepare batch\n",
    "loader = DataLoader(data_list, batch_size=batch_size, follow_batch=['x_1', 'x_2', 'x_3'], shuffle=True)"
   ]
  },
  {
   "cell_type": "code",
   "execution_count": 60,
   "metadata": {},
   "outputs": [],
   "source": [
    "lr = 0.01\n",
    "device = 'cuda' if torch.cuda.is_available() else 'cpu'\n",
    "model = GCN_k_m(input_features=dataset.num_node_features, hidden_channels=32, output_embeddings=44, n_conv_layers=2, n_linear_layers=0, name='test_triplet', dist='L1')\n",
    "optimizer = torch.optim.Adam(model.parameters(), lr=lr)\n",
    "criterion = CustomTripletMarginLoss(p=2).to(device)"
   ]
  },
  {
   "cell_type": "code",
   "execution_count": 61,
   "metadata": {},
   "outputs": [
    {
     "name": "stdout",
     "output_type": "stream",
     "text": [
      "Epoch: 10 | Time for 10 epochs: 3m 13s\n",
      "\tTrain Loss: 0.525\n",
      "\t Val. Loss: 0.033\n",
      "Early stopping triggered at epoch 11\n",
      "Best epoch was 5\n"
     ]
    }
   ],
   "source": [
    "# k = 20\n",
    "train_losses, validation_losses = training_loop(model, loader, optimizer, criterion, loader, epoch_number=20, patience=5, return_losses=True)"
   ]
  },
  {
   "cell_type": "markdown",
   "metadata": {},
   "source": [
    "- - - "
   ]
  },
  {
   "cell_type": "code",
   "execution_count": 10,
   "metadata": {},
   "outputs": [],
   "source": [
    "model.eval()\n",
    "with torch.no_grad():\n",
    "    for batch in loader:\n",
    "        anchor, positive, negative = model(batch.x_1.float(), batch.edge_index_1, batch.x_1_batch,\n",
    "                           batch.x_2.float(), batch.edge_index_2, batch.x_2_batch,\n",
    "                           batch.x_3.float(), batch.edge_index_3, batch.x_3_batch)"
   ]
  },
  {
   "cell_type": "code",
   "execution_count": 17,
   "metadata": {},
   "outputs": [],
   "source": [
    "a = torch.randn(100, 44, requires_grad=True)\n",
    "p = torch.randn(100, 44, requires_grad=True)\n",
    "n = torch.randn(100, 44, requires_grad=True)\n",
    "margin = torch.randn(100, requires_grad=True)"
   ]
  },
  {
   "cell_type": "code",
   "execution_count": 18,
   "metadata": {},
   "outputs": [],
   "source": [
    "class CustomTripletMarginLoss(torch.nn.Module):\n",
    "    __constants__ = [ 'p']\n",
    "    p: float\n",
    "\n",
    "    def __init__(self, p: float = 2.):\n",
    "        super(CustomTripletMarginLoss, self).__init__()\n",
    "        self.p = p\n",
    "\n",
    "    def forward(self, anchor: Tensor, positive: Tensor, negative: Tensor, margin: Tensor) -> Tensor:\n",
    "        d_ap = torch.norm(a - p, dim=1, p=self.p)\n",
    "        d_an = torch.norm(a - n, dim=1, p=self.p)\n",
    "        losses = torch.nn.functional.relu(d_ap - d_an + margin, inplace=False) # Remove all entries smaller than 0.\n",
    "        print(losses)\n",
    "        return losses.mean()"
   ]
  },
  {
   "cell_type": "code",
   "execution_count": 19,
   "metadata": {},
   "outputs": [],
   "source": [
    "triplet_loss = CustomTripletMarginLoss(p=2)"
   ]
  },
  {
   "cell_type": "code",
   "execution_count": 21,
   "metadata": {},
   "outputs": [
    {
     "name": "stdout",
     "output_type": "stream",
     "text": [
      "tensor([1.7241, 0.8844, 0.1229, 2.1568, 0.0000, 0.0000, 0.4302, 1.7382, 0.0000,\n",
      "        1.5834, 0.0000, 0.0000, 0.0000, 0.0000, 0.0000, 0.2546, 2.3055, 0.0000,\n",
      "        0.0000, 0.0000, 0.0000, 0.1404, 0.0000, 0.0000, 3.1657, 0.2228, 2.6370,\n",
      "        0.0000, 0.0000, 0.0000, 0.0000, 0.0000, 3.4558, 0.6973, 0.0000, 0.0000,\n",
      "        1.2245, 0.0000, 0.0000, 0.0000, 1.1430, 0.0000, 0.8623, 0.6163, 0.0000,\n",
      "        0.7579, 0.7639, 0.5172, 0.0000, 0.0000, 1.7816, 1.7591, 2.9611, 0.0000,\n",
      "        1.7274, 0.3970, 0.0000, 1.2914, 0.0000, 0.1768, 0.0000, 0.0000, 0.0000,\n",
      "        0.0000, 4.1160, 1.2337, 0.8383, 1.3015, 0.0000, 0.0000, 0.0000, 0.7484,\n",
      "        0.1275, 0.1616, 3.4277, 0.3994, 0.0000, 1.6854, 0.0000, 1.5949, 0.0000,\n",
      "        0.0000, 0.0832, 0.0000, 0.9760, 0.0000, 2.2489, 0.0000, 0.3684, 0.0000,\n",
      "        0.0000, 2.9536, 0.0000, 0.8067, 0.0000, 0.0000, 1.9480, 0.0000, 0.0000,\n",
      "        0.0000], grad_fn=<ReluBackward0>)\n"
     ]
    },
    {
     "data": {
      "text/plain": [
       "tensor(0.6252, grad_fn=<MeanBackward0>)"
      ]
     },
     "execution_count": 21,
     "metadata": {},
     "output_type": "execute_result"
    }
   ],
   "source": [
    "triplet_loss(a, p, n, margin)"
   ]
  }
 ],
 "metadata": {
  "kernelspec": {
   "display_name": "TUW_ML_Proj",
   "language": "python",
   "name": "python3"
  },
  "language_info": {
   "codemirror_mode": {
    "name": "ipython",
    "version": 3
   },
   "file_extension": ".py",
   "mimetype": "text/x-python",
   "name": "python",
   "nbconvert_exporter": "python",
   "pygments_lexer": "ipython3",
   "version": "3.9.18"
  }
 },
 "nbformat": 4,
 "nbformat_minor": 2
}
