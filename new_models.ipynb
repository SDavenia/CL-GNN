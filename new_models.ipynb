{
 "cells": [
  {
   "cell_type": "code",
   "execution_count": 1,
   "metadata": {},
   "outputs": [],
   "source": [
    "import json\n",
    "import os\n",
    "import numpy as np\n",
    "from scipy.spatial.distance import cdist\n",
    "import matplotlib.pyplot as plt\n",
    "\n",
    "import argparse\n",
    "import torch\n",
    "from torch_geometric.datasets import TUDataset\n",
    "from torch_geometric.loader import DataLoader\n",
    "\n",
    "\n",
    "from Utilities import score\n",
    "from Utilities import plot_matrix_runs, plot_results, save_plot_losses\n",
    "from Utilities import Add_ID_Count_Neighbours, PairData, prepare_dataloader_distance_scale\n",
    "\n",
    "from training import training_loop\n",
    "\n",
    "from models import GCN_k_m"
   ]
  },
  {
   "cell_type": "code",
   "execution_count": 2,
   "metadata": {},
   "outputs": [],
   "source": [
    "# Setup device\n",
    "device = 'cuda' if torch.cuda.is_available() else 'cpu'"
   ]
  },
  {
   "cell_type": "code",
   "execution_count": 3,
   "metadata": {},
   "outputs": [],
   "source": [
    "# Load dataset\n",
    "dataset = TUDataset(root='/tmp/ENZYMES_transformed', name='ENZYMES', pre_transform=Add_ID_Count_Neighbours(), use_node_attr=True)"
   ]
  },
  {
   "cell_type": "code",
   "execution_count": 4,
   "metadata": {},
   "outputs": [],
   "source": [
    "# Load the homomorphism counts vectors:\n",
    "name_dataset = 'MUTAG'\n",
    "n_homs=50\n",
    "hom_counts_path = 'data/homomorphism_counts/' + name_dataset + \"_\" + str(n_homs) + \".homson\"\n",
    "if not os.path.exists(hom_counts_path):\n",
    "    raise FileNotFoundError(f\"The file '{hom_counts_path}' was not found.\")\n",
    "\n",
    "# Load dataset\n",
    "dataset = TUDataset(root='/tmp/MUTAG_transformed', name='MUTAG', pre_transform=Add_ID_Count_Neighbours(), use_node_attr=True)"
   ]
  },
  {
   "cell_type": "code",
   "execution_count": 5,
   "metadata": {},
   "outputs": [],
   "source": [
    "# torch.manual_seed(args.seed)\n",
    "batch_size = 32\n",
    "distance = 'cosine'\n",
    "distance_scaling = 'counts'\n",
    "train_loader, val_loader, test_loader = prepare_dataloader_distance_scale(hom_counts_path, dataset, batch_size=batch_size, dist=distance, device = device, scaling = distance_scaling)"
   ]
  },
  {
   "cell_type": "code",
   "execution_count": null,
   "metadata": {},
   "outputs": [],
   "source": [
    "Number of GCN_layers: 2\n",
    "Number of Linear layers: 1\n",
    "Relu After: True\n",
    "MLP Distance: True"
   ]
  },
  {
   "cell_type": "code",
   "execution_count": 17,
   "metadata": {},
   "outputs": [],
   "source": [
    "\"\"\"\n",
    "This file contains the implementation of the different classes considered.\n",
    "\"\"\"\n",
    "import torch\n",
    "from torch.nn import Linear, Parameter, PairwiseDistance, CosineSimilarity\n",
    "from torch_geometric.nn import MessagePassing, global_mean_pool, GCNConv\n",
    "\n",
    "class GCN_k_m(torch.nn.Module):\n",
    "    \"\"\"\n",
    "    Takes as input a pair of graphs which are both fed through k graph convolutional layers and m linear layers.\n",
    "    conv1 -> dropout -> ...         -> convk -> meanpool -> relu -> compute dist(x1, x2)\n",
    "    If apply_relu_conv is True:\n",
    "    conv1 -> dropout -> relu -> ... -> convk -> meanpool -> relu -> compute dist(x1, x2)\n",
    "    If a number of linear layers m >= 1 is specified:\n",
    "    conv1 -> dropout -> ...         -> convk -> meanpool -> relu -> linear1 -> relu -> ... -> linearm -> compute dist(x1, x2)\n",
    "    \n",
    "    If mlp_dist is set to True:\n",
    "    The distance between the two embedding vectors is obtained by applying a linear transformation on the difference between the two.\n",
    "    \"\"\"\n",
    "    def __init__(self, input_features, hidden_channels, output_embeddings, n_conv_layers, n_linear_layers, p, name, apply_relu_conv = False, dist = 'L1', mlp_dist = False):\n",
    "        super(GCN_k_m, self).__init__()\n",
    "\n",
    "        if n_conv_layers < 1:\n",
    "            raise ValueError(\"Invalid value for n_conv_layers. n_conv_layers should be an integer larger than 0\")\n",
    "        if dist not in ['cosine', 'L1', 'L2']:\n",
    "            raise ValueError(\"Invalid value for 'dist'. Expected 'cosine', 'L1', or 'L2'.\")\n",
    "        \n",
    "        # Details for the architecture\n",
    "        self.dist = dist\n",
    "        self.mlp_dist = mlp_dist\n",
    "        self.input_features = input_features\n",
    "        self.output_embeddings = output_embeddings \n",
    "        self.name = name\n",
    "\n",
    "        # Hyper-parameters.\n",
    "        self.apply_relu_conv = apply_relu_conv # If True applies relu after each convolutional layer\n",
    "        self.p = p                             # Sets dropout probability. If 0, no dropout is allowed\n",
    "        self.hidden_channels = hidden_channels # Sets dimension of hidden channels\n",
    "        self.n_conv_layers = n_conv_layers     # Sets number of convolutional layers.\n",
    "        self.n_linear_layers = n_linear_layers # Sets number of linear layers.\n",
    "\n",
    "\n",
    "        # GCN and Linear layers employed by the model.\n",
    "        self.GCN_layers = torch.nn.ModuleList()\n",
    "        self.Linear_layers = torch.nn.ModuleList()\n",
    "\n",
    "        # If no linear layers\n",
    "        if self.n_linear_layers == 0:\n",
    "            for i in range(self.n_conv_layers-1): \n",
    "                self.GCN_layers.append(GCNConv(input_features, hidden_channels))\n",
    "                input_features = hidden_channels # From second layer we'll need this.and\n",
    "            # Final GCN layer\n",
    "            if self.n_conv_layers == 1:\n",
    "                self.final_GCN = GCNConv(input_features, output_embeddings)\n",
    "            else:\n",
    "                self.final_GCN = GCNConv(hidden_channels, output_embeddings)\n",
    "        \n",
    "        # If there are some linear layers\n",
    "        else:\n",
    "            for i in range(self.n_conv_layers): \n",
    "                self.GCN_layers.append(GCNConv(input_features, hidden_channels))\n",
    "                input_features = hidden_channels # From second layer we'll need this.and\n",
    "            # Linear layers\n",
    "            for i in range(self.n_linear_layers - 1):\n",
    "                self.Linear_layers.append(Linear(hidden_channels, hidden_channels))\n",
    "            # Final linear layer\n",
    "            self.final_linear = Linear(hidden_channels, output_embeddings)\n",
    "\n",
    "        # Additional layers required later\n",
    "        self.dropout = torch.nn.Dropout(self.p)\n",
    "        self.relu = torch.nn.ReLU()\n",
    "\n",
    "        if self.mlp_dist:\n",
    "            self.linear_dist = Linear(output_embeddings, 1)\n",
    "        \n",
    "        # Define the operation to be performed on the distances based on the the specification.\n",
    "        if self.dist == 'L1':\n",
    "            self.pdist = PairwiseDistance(p=1)\n",
    "        elif self.dist == 'L2':\n",
    "            self.pdist = PairwiseDistance(p=2)\n",
    "        elif self.dist == 'cosine':\n",
    "            self.pdist = CosineSimilarity()\n",
    "\n",
    "    def forward(self, x1, edge_index1, batch1, x2, edge_index2, batch2): # Need a way to extract these from dataloader\n",
    "\n",
    "        # 1. Obtain node embeddings for graph 1 and 2\n",
    "        for layer in self.GCN_layers: \n",
    "            x1 = layer(x1, edge_index1)\n",
    "            x1 = self.dropout(x1)\n",
    "            x2 = layer(x2, edge_index2)\n",
    "            x2 = self.dropout(x2)\n",
    "            if self.apply_relu_conv:\n",
    "                x1 = self.relu(x1)\n",
    "                x2 = self.relu(x2)\n",
    "        \n",
    "        if self.n_linear_layers == 0:\n",
    "            x1 = self.final_GCN(x1, edge_index1)\n",
    "            x2 = self.final_GCN(x2, edge_index2)\n",
    "\n",
    "        # 2. Readout layer followed by RELU (and Linear layers).\n",
    "        x1 = global_mean_pool(x1, batch1)\n",
    "        x1 = self.relu(x1)\n",
    "        x2 = global_mean_pool(x2, batch2)\n",
    "        x2 = self.relu(x2)\n",
    "\n",
    "        if self.n_linear_layers > 0:\n",
    "            for layer in self.Linear_layers:\n",
    "                x1 = layer(x1)\n",
    "                x1 = self.relu(x1)\n",
    "                x2 = layer(x2)\n",
    "                x2 = self.relu(x2)\n",
    "            \n",
    "            x1 = self.final_linear(x1)\n",
    "            x2 = self.final_linear(x2)\n",
    "\n",
    "        if self.mlp_dist:\n",
    "            # Maybe try Euclidean distance\n",
    "            x = torch.abs(x1 - x2)\n",
    "            print(x.shape)\n",
    "            vdist = self.linear_dist(x).reshape(-1)\n",
    "            return vdist\n",
    "\n",
    "        # Compute the corresponding distance between the embeddings.\n",
    "        if self.dist == 'cosine':\n",
    "            vdist = 1 - self.pdist(x1, x2)\n",
    "        else:\n",
    "            vdist = self.pdist(x1, x2)\n",
    "        return vdist\n",
    "    \n",
    "    def save(self):\n",
    "        \"\"\"\n",
    "        Saves the model state dictionary in models folder\n",
    "        \"\"\"\n",
    "        path = 'models/' + self.name + '.pt'\n",
    "        torch.save(self.state_dict(), path)"
   ]
  },
  {
   "cell_type": "code",
   "execution_count": 18,
   "metadata": {},
   "outputs": [],
   "source": [
    "# Prepare the model:\n",
    "hid_size = 32\n",
    "emb_size = n_homs\n",
    "lr = 0.01\n",
    "name = 'GCN_k_m_trial'\n",
    "model = GCN_k_m(input_features=dataset.num_node_features, hidden_channels=hid_size, output_embeddings=emb_size, n_conv_layers=2, n_linear_layers=1, p=0.2, name = name, apply_relu_conv=False, dist='cosine', mlp_dist=True).to(device)\n",
    "optimizer = torch.optim.Adam(model.parameters(), lr=lr)\n",
    "criterion = torch.nn.MSELoss().to(device)"
   ]
  },
  {
   "cell_type": "code",
   "execution_count": 19,
   "metadata": {},
   "outputs": [
    {
     "name": "stdout",
     "output_type": "stream",
     "text": [
      "GCN_k_m(\n",
      "  (GCN_layers): ModuleList(\n",
      "    (0): GCNConv(1, 32)\n",
      "    (1): GCNConv(32, 32)\n",
      "  )\n",
      "  (Linear_layers): ModuleList()\n",
      "  (final_linear): Linear(in_features=32, out_features=50, bias=True)\n",
      "  (dropout): Dropout(p=0.2, inplace=False)\n",
      "  (relu): ReLU()\n",
      "  (linear_dist): Linear(in_features=50, out_features=1, bias=True)\n",
      "  (pdist): CosineSimilarity()\n",
      ")\n"
     ]
    }
   ],
   "source": [
    "print(model)"
   ]
  },
  {
   "cell_type": "code",
   "execution_count": null,
   "metadata": {},
   "outputs": [],
   "source": [
    "train_losses, validation_losses = training_loop(model, train_loader, optimizer, criterion, val_loader, epoch_number=10, patience=10, return_losses=True)"
   ]
  },
  {
   "cell_type": "code",
   "execution_count": 10,
   "metadata": {},
   "outputs": [
    {
     "name": "stdout",
     "output_type": "stream",
     "text": [
      "MSE Loss: 0.0004790598468389362\n"
     ]
    }
   ],
   "source": [
    "y, predictions = score(model, test_loader, device)"
   ]
  }
 ],
 "metadata": {
  "kernelspec": {
   "display_name": "TUW_ML_Proj",
   "language": "python",
   "name": "python3"
  },
  "language_info": {
   "codemirror_mode": {
    "name": "ipython",
    "version": 3
   },
   "file_extension": ".py",
   "mimetype": "text/x-python",
   "name": "python",
   "nbconvert_exporter": "python",
   "pygments_lexer": "ipython3",
   "version": "3.9.18"
  }
 },
 "nbformat": 4,
 "nbformat_minor": 2
}
