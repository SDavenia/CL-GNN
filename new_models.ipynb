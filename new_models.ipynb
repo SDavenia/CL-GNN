{
 "cells": [
  {
   "cell_type": "code",
   "execution_count": 1,
   "metadata": {},
   "outputs": [],
   "source": [
    "import json\n",
    "import os\n",
    "import numpy as np\n",
    "from scipy.spatial.distance import cdist\n",
    "import matplotlib.pyplot as plt\n",
    "\n",
    "import argparse\n",
    "import torch\n",
    "from torch_geometric.datasets import TUDataset\n",
    "from torch_geometric.loader import DataLoader\n",
    "\n",
    "\n",
    "from Utilities import score\n",
    "from Utilities import plot_matrix_runs, plot_results, save_plot_losses\n",
    "from Utilities import Add_ID_Count_Neighbours, PairData, prepare_dataloader_distance_scale\n",
    "\n",
    "from training import training_loop\n",
    "\n",
    "from models import GCN_k_m"
   ]
  },
  {
   "cell_type": "code",
   "execution_count": 2,
   "metadata": {},
   "outputs": [],
   "source": [
    "# Setup device\n",
    "device = 'cuda' if torch.cuda.is_available() else 'cpu'"
   ]
  },
  {
   "cell_type": "code",
   "execution_count": 3,
   "metadata": {},
   "outputs": [],
   "source": [
    "# Load dataset\n",
    "dataset = TUDataset(root='/tmp/ENZYMES_transformed', name='ENZYMES', pre_transform=Add_ID_Count_Neighbours(), use_node_attr=True)"
   ]
  },
  {
   "cell_type": "code",
   "execution_count": 4,
   "metadata": {},
   "outputs": [],
   "source": [
    "# Load the homomorphism counts vectors:\n",
    "name_dataset = 'ENZYMES'\n",
    "n_homs=50\n",
    "hom_counts_path = 'data/homomorphism_counts/' + name_dataset + \"_\" + str(n_homs) + \".homson\"\n",
    "if not os.path.exists(hom_counts_path):\n",
    "    raise FileNotFoundError(f\"The file '{hom_counts_path}' was not found.\")"
   ]
  },
  {
   "cell_type": "code",
   "execution_count": 5,
   "metadata": {},
   "outputs": [],
   "source": [
    "# torch.manual_seed(args.seed)\n",
    "batch_size = 32\n",
    "distance = 'cosine'\n",
    "distance_scaling = 'counts'\n",
    "train_loader, val_loader, test_loader = prepare_dataloader_distance_scale(hom_counts_path, dataset, batch_size=batch_size, dist=distance, device = device, scaling = distance_scaling)"
   ]
  },
  {
   "cell_type": "code",
   "execution_count": 6,
   "metadata": {},
   "outputs": [],
   "source": [
    "# Prepare the model:\n",
    "hid_size = 32\n",
    "emb_size = n_homs\n",
    "lr = 0.01\n",
    "name = 'GCN_k_m_trial'\n",
    "model = GCN_k_m(input_features=dataset.num_node_features, hidden_channels=hid_size, output_embeddings=emb_size, n_conv_layers=2, n_linear_layers=0, p=0.2, name = name, apply_relu_conv= False, dist='cosine', mlp_dist=True).to(device)\n",
    "optimizer = torch.optim.Adam(model.parameters(), lr=lr)\n",
    "criterion = torch.nn.MSELoss().to(device)"
   ]
  },
  {
   "cell_type": "code",
   "execution_count": 9,
   "metadata": {},
   "outputs": [
    {
     "name": "stdout",
     "output_type": "stream",
     "text": [
      "GCN_k_m(\n",
      "  (GCN_layers): ModuleList(\n",
      "    (0): GCNConv(1, 32)\n",
      "  )\n",
      "  (Linear_layers): ModuleList()\n",
      "  (final_GCN): GCNConv(32, 50)\n",
      "  (dropout): Dropout(p=0.2, inplace=False)\n",
      "  (relu): ReLU()\n",
      "  (linear_dist): Linear(in_features=50, out_features=1, bias=True)\n",
      "  (pdist): CosineSimilarity()\n",
      ")\n"
     ]
    }
   ],
   "source": [
    "print(model)"
   ]
  },
  {
   "cell_type": "code",
   "execution_count": 8,
   "metadata": {},
   "outputs": [
    {
     "name": "stdout",
     "output_type": "stream",
     "text": [
      "Epoch: 10 | Time for 10 epochs: 4m 46s\n",
      "\tTrain Loss: 0.000\n",
      "\t Val. Loss: 0.000\n",
      "Early stopping triggered at epoch 12\n",
      "Best epoch was 1\n"
     ]
    }
   ],
   "source": [
    "train_losses, validation_losses = training_loop(model, train_loader, optimizer, criterion, val_loader, epoch_number=30, patience=10, return_losses=True)"
   ]
  },
  {
   "cell_type": "code",
   "execution_count": 10,
   "metadata": {},
   "outputs": [
    {
     "name": "stdout",
     "output_type": "stream",
     "text": [
      "MSE Loss: 0.0004790598468389362\n"
     ]
    }
   ],
   "source": [
    "y, predictions = score(model, test_loader, device)"
   ]
  }
 ],
 "metadata": {
  "kernelspec": {
   "display_name": "TUW_ML_Proj",
   "language": "python",
   "name": "python3"
  },
  "language_info": {
   "codemirror_mode": {
    "name": "ipython",
    "version": 3
   },
   "file_extension": ".py",
   "mimetype": "text/x-python",
   "name": "python",
   "nbconvert_exporter": "python",
   "pygments_lexer": "ipython3",
   "version": "3.9.18"
  }
 },
 "nbformat": 4,
 "nbformat_minor": 2
}
