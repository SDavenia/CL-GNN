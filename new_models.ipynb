{
 "cells": [
  {
   "cell_type": "code",
   "execution_count": 1,
   "metadata": {},
   "outputs": [],
   "source": [
    "import json\n",
    "import os\n",
    "import numpy as np\n",
    "from scipy.spatial.distance import cdist\n",
    "import matplotlib.pyplot as plt\n",
    "\n",
    "import argparse\n",
    "import torch\n",
    "from torch_geometric.datasets import TUDataset\n",
    "from torch_geometric.loader import DataLoader\n",
    "\n",
    "\n",
    "from Utilities import score\n",
    "from Utilities import plot_matrix_runs, plot_results, save_plot_losses\n",
    "from Utilities import Add_ID_Count_Neighbours, PairData, prepare_dataloader_distance_scale\n",
    "\n",
    "from training import training_loop\n",
    "\n",
    "from models import GCN_k_m, GCN3"
   ]
  },
  {
   "cell_type": "code",
   "execution_count": 2,
   "metadata": {},
   "outputs": [],
   "source": [
    "# Setup device\n",
    "device = 'cuda' if torch.cuda.is_available() else 'cpu'"
   ]
  },
  {
   "cell_type": "code",
   "execution_count": 3,
   "metadata": {},
   "outputs": [],
   "source": [
    "# Load dataset\n",
    "dataset = TUDataset(root='/tmp/ENZYMES_transformed', name='ENZYMES', pre_transform=Add_ID_Count_Neighbours(), use_node_attr=True)"
   ]
  },
  {
   "cell_type": "code",
   "execution_count": 9,
   "metadata": {},
   "outputs": [],
   "source": [
    "# Load the homomorphism counts vectors:\n",
    "name_dataset = 'ENZYMES'\n",
    "n_homs=44\n",
    "hom_counts_path = 'data/homomorphism_counts/' + name_dataset + \"_\" + str(n_homs) + \".homson\"\n",
    "if not os.path.exists(hom_counts_path):\n",
    "    raise FileNotFoundError(f\"The file '{hom_counts_path}' was not found.\")\n",
    "\n",
    "# Load dataset\n",
    "dataset = TUDataset(root='/tmp/MUTAG_transformed', name='MUTAG', pre_transform=Add_ID_Count_Neighbours(), use_node_attr=True)"
   ]
  },
  {
   "cell_type": "code",
   "execution_count": 158,
   "metadata": {},
   "outputs": [],
   "source": [
    "# torch.manual_seed(args.seed)\n",
    "batch_size = 32\n",
    "distance = 'L2'\n",
    "distance_scaling = 'counts_density'\n",
    "train_loader, val_loader, test_loader = prepare_dataloader_distance_scale(hom_counts_path, dataset, batch_size=batch_size, dist=distance, device = device, scaling = distance_scaling, scale_y=False)"
   ]
  },
  {
   "cell_type": "code",
   "execution_count": 163,
   "metadata": {},
   "outputs": [],
   "source": [
    "# Prepare the model:\n",
    "hid_size = 32\n",
    "emb_size = n_homs\n",
    "lr = 0.1\n",
    "name = 'GCN3'\n",
    "model = GCN3(input_features=dataset.num_node_features, hidden_channels=hid_size, output_embeddings=emb_size, name=name, dist=distance).to(device)\n",
    "# model = GCN3(input_features=dataset.num_node_features, hidden_channels=hid_size, output_embeddings=emb_size, n_conv_layers=2, n_linear_layers=1, p=0.2, name = name, apply_relu_conv=False, dist='cosine', mlp_dist=True).to(device)\n",
    "optimizer = torch.optim.Adam(model.parameters(), lr=lr)\n",
    "criterion = torch.nn.MSELoss().to(device)"
   ]
  },
  {
   "cell_type": "code",
   "execution_count": 164,
   "metadata": {},
   "outputs": [
    {
     "name": "stdout",
     "output_type": "stream",
     "text": [
      "GCN3(\n",
      "  (conv1): GCNConv(1, 32)\n",
      "  (conv2): GCNConv(32, 32)\n",
      "  (conv3): GCNConv(32, 32)\n",
      "  (lin): Linear(in_features=32, out_features=44, bias=True)\n",
      "  (pdist): PairwiseDistance()\n",
      ")\n"
     ]
    }
   ],
   "source": [
    "print(model)"
   ]
  },
  {
   "cell_type": "code",
   "execution_count": 114,
   "metadata": {},
   "outputs": [
    {
     "name": "stdout",
     "output_type": "stream",
     "text": [
      "Epoch: 10 | Time for 10 epochs: 0m 30s\n",
      "\tTrain Loss: 0.015\n",
      "\t Val. Loss: 0.001\n",
      "Early stopping triggered at epoch 13\n",
      "Best epoch was 2\n"
     ]
    }
   ],
   "source": [
    "train_losses, validation_losses = training_loop(model, train_loader, optimizer, criterion, val_loader, epoch_number=20, patience=10, return_losses=True)"
   ]
  },
  {
   "cell_type": "code",
   "execution_count": 115,
   "metadata": {},
   "outputs": [
    {
     "data": {
      "image/png": "[encoded data removed]",
      "text/plain": [
       "<Figure size 640x480 with 1 Axes>"
      ]
     },
     "metadata": {},
     "output_type": "display_data"
    }
   ],
   "source": [
    "plt.plot(train_losses, label='train')\n",
    "plt.plot(validation_losses, label='validation')\n",
    "plt.show()"
   ]
  }
 ],
 "metadata": {
  "kernelspec": {
   "display_name": "TUW_ML_Proj",
   "language": "python",
   "name": "python3"
  },
  "language_info": {
   "codemirror_mode": {
    "name": "ipython",
    "version": 3
   },
   "file_extension": ".py",
   "mimetype": "text/x-python",
   "name": "python",
   "nbconvert_exporter": "python",
   "pygments_lexer": "ipython3",
   "version": "3.9.18"
  }
 },
 "nbformat": 4,
 "nbformat_minor": 2
}
